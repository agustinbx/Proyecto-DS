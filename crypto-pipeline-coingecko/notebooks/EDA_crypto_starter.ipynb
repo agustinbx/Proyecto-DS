{
 "cells": [
  {
   "cell_type": "markdown",
   "id": "9ee1c638",
   "metadata": {},
   "source": [
    "# 🧪 EDA inicial — Crypto (CoinGecko)\n",
    "\n",
    "Este notebook está pensado como **plantilla mínima** para empezar tu análisis exploratorio con los **datos crudos** exportados por `scripts/export_raw.py`.\n",
    "\n",
    "> *Tip:* Primero ejecutá: `python scripts/export_raw.py` para generar `./data/<coin>_raw.csv` o `./data/<coin>_raw.json`.\n"
   ]
  },
  {
   "cell_type": "code",
   "execution_count": 9,
   "id": "8a63de50",
   "metadata": {},
   "outputs": [
    {
     "name": "stdout",
     "output_type": "stream",
     "text": [
      "Nuevo CWD: c:\\Users\\usuario\\Desktop\\Proyecto DS\\crypto-pipeline-coingecko\n"
     ]
    }
   ],
   "source": [
    "import os\n",
    "os.chdir(r\"c:\\Users\\usuario\\Desktop\\Proyecto DS\\crypto-pipeline-coingecko\")\n",
    "print(\"Nuevo CWD:\", os.getcwd())"
   ]
  },
  {
   "cell_type": "code",
   "execution_count": 11,
   "id": "e1c26955",
   "metadata": {},
   "outputs": [
    {
     "name": "stdout",
     "output_type": "stream",
     "text": [
      "✔ Dataset cargado: bitcoin | Filas: 2164 | Columnas: ['coin_id', 'ts_utc', 'price', 'market_cap', 'total_volume']\n"
     ]
    },
    {
     "data": {
      "text/html": [
       "<div>\n",
       "<style scoped>\n",
       "    .dataframe tbody tr th:only-of-type {\n",
       "        vertical-align: middle;\n",
       "    }\n",
       "\n",
       "    .dataframe tbody tr th {\n",
       "        vertical-align: top;\n",
       "    }\n",
       "\n",
       "    .dataframe thead th {\n",
       "        text-align: right;\n",
       "    }\n",
       "</style>\n",
       "<table border=\"1\" class=\"dataframe\">\n",
       "  <thead>\n",
       "    <tr style=\"text-align: right;\">\n",
       "      <th></th>\n",
       "      <th>coin_id</th>\n",
       "      <th>ts_utc</th>\n",
       "      <th>price</th>\n",
       "      <th>market_cap</th>\n",
       "      <th>total_volume</th>\n",
       "    </tr>\n",
       "  </thead>\n",
       "  <tbody>\n",
       "    <tr>\n",
       "      <th>0</th>\n",
       "      <td>bitcoin</td>\n",
       "      <td>2025-06-03 00:03:46</td>\n",
       "      <td>105883.831757</td>\n",
       "      <td>2.104349e+12</td>\n",
       "      <td>2.636969e+10</td>\n",
       "    </tr>\n",
       "    <tr>\n",
       "      <th>1</th>\n",
       "      <td>bitcoin</td>\n",
       "      <td>2025-06-03 01:03:23</td>\n",
       "      <td>106303.264233</td>\n",
       "      <td>2.112742e+12</td>\n",
       "      <td>2.685626e+10</td>\n",
       "    </tr>\n",
       "    <tr>\n",
       "      <th>2</th>\n",
       "      <td>bitcoin</td>\n",
       "      <td>2025-06-03 02:03:10</td>\n",
       "      <td>106415.398052</td>\n",
       "      <td>2.114077e+12</td>\n",
       "      <td>2.722596e+10</td>\n",
       "    </tr>\n",
       "    <tr>\n",
       "      <th>3</th>\n",
       "      <td>bitcoin</td>\n",
       "      <td>2025-06-03 03:02:40</td>\n",
       "      <td>105912.222356</td>\n",
       "      <td>2.104976e+12</td>\n",
       "      <td>2.764400e+10</td>\n",
       "    </tr>\n",
       "    <tr>\n",
       "      <th>4</th>\n",
       "      <td>bitcoin</td>\n",
       "      <td>2025-06-03 04:03:28</td>\n",
       "      <td>105559.570950</td>\n",
       "      <td>2.098234e+12</td>\n",
       "      <td>2.721849e+10</td>\n",
       "    </tr>\n",
       "  </tbody>\n",
       "</table>\n",
       "</div>"
      ],
      "text/plain": [
       "   coin_id               ts_utc          price    market_cap  total_volume\n",
       "0  bitcoin  2025-06-03 00:03:46  105883.831757  2.104349e+12  2.636969e+10\n",
       "1  bitcoin  2025-06-03 01:03:23  106303.264233  2.112742e+12  2.685626e+10\n",
       "2  bitcoin  2025-06-03 02:03:10  106415.398052  2.114077e+12  2.722596e+10\n",
       "3  bitcoin  2025-06-03 03:02:40  105912.222356  2.104976e+12  2.764400e+10\n",
       "4  bitcoin  2025-06-03 04:03:28  105559.570950  2.098234e+12  2.721849e+10"
      ]
     },
     "execution_count": 11,
     "metadata": {},
     "output_type": "execute_result"
    }
   ],
   "source": [
    "# --- Configuración básica ---\n",
    "# Elegí la moneda (debe coincidir con el coin_id exportado)\n",
    "COIN = \"bitcoin\"   # ejemplo: \"bitcoin\", \"ethereum\", \"solana\"\n",
    "\n",
    "CSV_PATH = f\"./data/{COIN}_raw.csv\"\n",
    "JSON_PATH = f\"./data/{COIN}_raw.json\"\n",
    "\n",
    "import pandas as pd\n",
    "from pathlib import Path\n",
    "\n",
    "pd.set_option(\"display.max_rows\", 20)\n",
    "pd.set_option(\"display.width\", 120)\n",
    "\n",
    "# Intentar cargar CSV, si no existe probar JSON\n",
    "if Path(CSV_PATH).exists():\n",
    "    df = pd.read_csv(CSV_PATH)\n",
    "elif Path(JSON_PATH).exists():\n",
    "    df = pd.read_json(JSON_PATH)\n",
    "else:\n",
    "    raise FileNotFoundError(f\"No encuentro {CSV_PATH} ni {JSON_PATH}. Corré primero: python scripts/export_raw.py\")\n",
    "\n",
    "print(\"✔ Dataset cargado:\", COIN, \"| Filas:\", len(df), \"| Columnas:\", list(df.columns))\n",
    "df.head()"
   ]
  },
  {
   "cell_type": "code",
   "execution_count": 12,
   "id": "4254e567",
   "metadata": {},
   "outputs": [
    {
     "data": {
      "text/plain": [
       "dict_keys(['id', 'symbol', 'name', 'web_slug', 'asset_platform_id', 'platforms', 'detail_platforms', 'block_time_in_minutes', 'hashing_algorithm', 'categories', 'preview_listing', 'public_notice', 'additional_notices', 'description', 'links', 'image', 'country_origin', 'genesis_date', 'sentiment_votes_up_percentage', 'sentiment_votes_down_percentage', 'watchlist_portfolio_users', 'market_cap_rank', 'market_data', 'community_data', 'developer_data', 'status_updates', 'last_updated'])"
      ]
     },
     "execution_count": 12,
     "metadata": {},
     "output_type": "execute_result"
    }
   ],
   "source": [
    "import json\n",
    "\n",
    "with open(\"./data/bitcoin_metadata.json\", \"r\", encoding=\"utf-8\") as f:\n",
    "    btc_meta = json.load(f)\n",
    "\n",
    "# Ver las claves principales\n",
    "btc_meta.keys()"
   ]
  },
  {
   "cell_type": "code",
   "execution_count": 14,
   "id": "937bb1c8",
   "metadata": {},
   "outputs": [
    {
     "name": "stdout",
     "output_type": "stream",
     "text": [
      "Nombre: Bitcoin\n",
      "Símbolo: btc\n",
      "Precio USD: 108194\n",
      "Market Cap USD: 2154312771471\n",
      "ATH: 124128\n",
      "ATH Fecha: 2025-08-14T00:37:02.582Z\n",
      "Stars: 73168\n"
     ]
    }
   ],
   "source": [
    "# Nombre y símbolo\n",
    "print(\"Nombre:\", btc_meta[\"name\"])\n",
    "print(\"Símbolo:\", btc_meta[\"symbol\"])\n",
    "\n",
    "# Precio actual en USD\n",
    "print(\"Precio USD:\", btc_meta[\"market_data\"][\"current_price\"][\"usd\"])\n",
    "\n",
    "# Market Cap\n",
    "print(\"Market Cap USD:\", btc_meta[\"market_data\"][\"market_cap\"][\"usd\"])\n",
    "\n",
    "# Máximo histórico (ATH) y fecha\n",
    "print(\"ATH:\", btc_meta[\"market_data\"][\"ath\"][\"usd\"])\n",
    "print(\"ATH Fecha:\", btc_meta[\"market_data\"][\"ath_date\"][\"usd\"])\n",
    "\n",
    "# Comunidad\n",
    "#print(\"Twitter followers:\", btc_meta[\"community_data\"][\"twitter_followers\"])\n",
    "\n",
    "# Repositorio (GitHub)\n",
    "print(\"Stars:\", btc_meta[\"developer_data\"][\"stars\"])"
   ]
  },
  {
   "cell_type": "markdown",
   "id": "66365b51",
   "metadata": {},
   "source": [
    "## 1) Limpieza mínima\n",
    "- Parseo de fecha\n",
    "- Orden cronológico\n",
    "- Tipos numéricos\n"
   ]
  },
  {
   "cell_type": "code",
   "execution_count": 15,
   "id": "747ed900",
   "metadata": {},
   "outputs": [
    {
     "name": "stdout",
     "output_type": "stream",
     "text": [
      "<class 'pandas.core.frame.DataFrame'>\n",
      "DatetimeIndex: 2164 entries, 2025-06-03 00:03:46+00:00 to 2025-09-01 00:14:34+00:00\n",
      "Data columns (total 4 columns):\n",
      " #   Column        Non-Null Count  Dtype  \n",
      "---  ------        --------------  -----  \n",
      " 0   coin_id       2164 non-null   object \n",
      " 1   price         2164 non-null   float64\n",
      " 2   market_cap    2164 non-null   float64\n",
      " 3   total_volume  2164 non-null   float64\n",
      "dtypes: float64(3), object(1)\n",
      "memory usage: 84.5+ KB\n"
     ]
    }
   ],
   "source": [
    "# Convertir timestamp a datetime si viene como string\n",
    "if \"ts_utc\" in df.columns:\n",
    "    df[\"ts_utc\"] = pd.to_datetime(df[\"ts_utc\"], utc=True, errors=\"coerce\")\n",
    "    df = df.sort_values(\"ts_utc\").reset_index(drop=True)\n",
    "    df = df.set_index(\"ts_utc\")\n",
    "\n",
    "# Asegurar numéricos\n",
    "for col in [\"price\", \"market_cap\", \"total_volume\"]:\n",
    "    if col in df.columns:\n",
    "        df[col] = pd.to_numeric(df[col], errors=\"coerce\")\n",
    "\n",
    "df.info()\n"
   ]
  },
  {
   "cell_type": "markdown",
   "id": "39670f40",
   "metadata": {},
   "source": [
    "## 2) Vistazo rápido"
   ]
  },
  {
   "cell_type": "code",
   "execution_count": 17,
   "id": "7ab96bf5",
   "metadata": {},
   "outputs": [
    {
     "data": {
      "text/html": [
       "<div>\n",
       "<style scoped>\n",
       "    .dataframe tbody tr th:only-of-type {\n",
       "        vertical-align: middle;\n",
       "    }\n",
       "\n",
       "    .dataframe tbody tr th {\n",
       "        vertical-align: top;\n",
       "    }\n",
       "\n",
       "    .dataframe thead th {\n",
       "        text-align: right;\n",
       "    }\n",
       "</style>\n",
       "<table border=\"1\" class=\"dataframe\">\n",
       "  <thead>\n",
       "    <tr style=\"text-align: right;\">\n",
       "      <th></th>\n",
       "      <th>price</th>\n",
       "      <th>market_cap</th>\n",
       "      <th>total_volume</th>\n",
       "    </tr>\n",
       "  </thead>\n",
       "  <tbody>\n",
       "    <tr>\n",
       "      <th>count</th>\n",
       "      <td>2164.000000</td>\n",
       "      <td>2.164000e+03</td>\n",
       "      <td>2.164000e+03</td>\n",
       "    </tr>\n",
       "    <tr>\n",
       "      <th>mean</th>\n",
       "      <td>112164.197437</td>\n",
       "      <td>2.231415e+12</td>\n",
       "      <td>3.713453e+10</td>\n",
       "    </tr>\n",
       "    <tr>\n",
       "      <th>std</th>\n",
       "      <td>5563.494667</td>\n",
       "      <td>1.115561e+11</td>\n",
       "      <td>1.533546e+10</td>\n",
       "    </tr>\n",
       "    <tr>\n",
       "      <th>min</th>\n",
       "      <td>98974.669555</td>\n",
       "      <td>1.968214e+12</td>\n",
       "      <td>8.163551e+09</td>\n",
       "    </tr>\n",
       "    <tr>\n",
       "      <th>25%</th>\n",
       "      <td>107338.320417</td>\n",
       "      <td>2.134262e+12</td>\n",
       "      <td>2.543090e+10</td>\n",
       "    </tr>\n",
       "    <tr>\n",
       "      <th>50%</th>\n",
       "      <td>112760.872216</td>\n",
       "      <td>2.244467e+12</td>\n",
       "      <td>3.468331e+10</td>\n",
       "    </tr>\n",
       "    <tr>\n",
       "      <th>75%</th>\n",
       "      <td>117703.077253</td>\n",
       "      <td>2.341774e+12</td>\n",
       "      <td>4.647202e+10</td>\n",
       "    </tr>\n",
       "    <tr>\n",
       "      <th>max</th>\n",
       "      <td>123782.080087</td>\n",
       "      <td>2.463195e+12</td>\n",
       "      <td>1.482507e+11</td>\n",
       "    </tr>\n",
       "  </tbody>\n",
       "</table>\n",
       "</div>"
      ],
      "text/plain": [
       "               price    market_cap  total_volume\n",
       "count    2164.000000  2.164000e+03  2.164000e+03\n",
       "mean   112164.197437  2.231415e+12  3.713453e+10\n",
       "std      5563.494667  1.115561e+11  1.533546e+10\n",
       "min     98974.669555  1.968214e+12  8.163551e+09\n",
       "25%    107338.320417  2.134262e+12  2.543090e+10\n",
       "50%    112760.872216  2.244467e+12  3.468331e+10\n",
       "75%    117703.077253  2.341774e+12  4.647202e+10\n",
       "max    123782.080087  2.463195e+12  1.482507e+11"
      ]
     },
     "execution_count": 17,
     "metadata": {},
     "output_type": "execute_result"
    }
   ],
   "source": [
    "df.describe()\n"
   ]
  },
  {
   "cell_type": "markdown",
   "id": "41cd4853",
   "metadata": {},
   "source": [
    "## 3) Gráficos básicos\n",
    "> Streamlit ya te muestra una línea simple, pero acá podés hacer inspecciones libres con matplotlib.\n"
   ]
  },
  {
   "cell_type": "code",
   "execution_count": 18,
   "id": "2d74cf89",
   "metadata": {},
   "outputs": [
    {
     "data": {
      "image/png": "[encoded data removed]",
      "text/plain": [
       "<Figure size 1000x400 with 1 Axes>"
      ]
     },
     "metadata": {},
     "output_type": "display_data"
    }
   ],
   "source": [
    "import matplotlib.pyplot as plt\n",
    "\n",
    "# Precio en el tiempo\n",
    "ax = df[\"price\"].plot(figsize=(10,4), title=f\"Precio — {COIN.upper()}\")\n",
    "ax.set_xlabel(\"Fecha (UTC)\")\n",
    "ax.set_ylabel(\"Precio\")\n",
    "plt.show()\n"
   ]
  },
  {
   "cell_type": "code",
   "execution_count": null,
   "id": "f90c2682",
   "metadata": {},
   "outputs": [],
   "source": [
    "# Histograma simple de precio\n",
    "ax = df[\"price\"].dropna().plot(kind=\"hist\", bins=30, figsize=(8,4), title=f\"Histograma de precio — {COIN.upper()}\")\n",
    "ax.set_xlabel(\"Precio\")\n",
    "plt.show()\n"
   ]
  },
  {
   "cell_type": "markdown",
   "id": "79ca3b06",
   "metadata": {},
   "source": [
    "## 4) (Opcional) Primeras features\n",
    "Estas celdas están **listas pero podés comentarlas** si querés ir de a poco.\n"
   ]
  },
  {
   "cell_type": "code",
   "execution_count": null,
   "id": "d2773b98",
   "metadata": {},
   "outputs": [],
   "source": [
    "# Retorno porcentual diario (si tus datos son subdiarios, resampleá antes)\n",
    "# df_d = df.resample(\"1D\").mean()\n",
    "# df_d[\"ret\"] = df_d[\"price\"].pct_change()\n",
    "# df_d[[\"price\",\"ret\"]].tail(10)"
   ]
  },
  {
   "cell_type": "code",
   "execution_count": null,
   "id": "1a3d96c9",
   "metadata": {},
   "outputs": [],
   "source": [
    "# Media móvil simple (7 días) sobre datos diarios\n",
    "# df_d[\"ma_7\"] = df_d[\"price\"].rolling(7).mean()\n",
    "# ax = df_d[[\"price\",\"ma_7\"]].plot(figsize=(10,4), title=f\"Precio + MA7 — {COIN.upper()}\")\n",
    "# ax.set_xlabel(\"Fecha (UTC)\")\n",
    "# ax.set_ylabel(\"Precio\")\n",
    "# plt.show()"
   ]
  }
 ],
 "metadata": {
  "kernelspec": {
   "display_name": ".venv",
   "language": "python",
   "name": "python3"
  },
  "language_info": {
   "codemirror_mode": {
    "name": "ipython",
    "version": 3
   },
   "file_extension": ".py",
   "mimetype": "text/x-python",
   "name": "python",
   "nbconvert_exporter": "python",
   "pygments_lexer": "ipython3",
   "version": "3.12.10"
  }
 },
 "nbformat": 4,
 "nbformat_minor": 5
}
